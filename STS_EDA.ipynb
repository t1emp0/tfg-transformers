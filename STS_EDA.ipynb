{
 "cells": [
  {
   "cell_type": "markdown",
   "metadata": {},
   "source": [
    "# Semantic Textual Similarity EDA in Catalan\n"
   ]
  },
  {
   "cell_type": "markdown",
   "metadata": {},
   "source": [
    "It consists of more than 3000 sentence pairs, annotated (manually by 4 people) with the semantic similarity between them, using a scale from 0 (no similarity at all) to 5 (semantic equivalence).\n",
    "\n",
    "More info can be found in in the publisher's site: https://zenodo.org/record/4761434\n",
    "\n",
    "The aim of this notebook is an to explore the dataset used on the Semantic Textual Similarity in Catalan benchmark. We use Version 1.0.2, which was released in February 10, 2021.\n"
   ]
  },
  {
   "cell_type": "code",
   "execution_count": 1,
   "metadata": {},
   "outputs": [],
   "source": [
    "import pandas as pd\n",
    "from zipfile import ZipFile\n"
   ]
  },
  {
   "cell_type": "code",
   "execution_count": 2,
   "metadata": {},
   "outputs": [
    {
     "name": "stdout",
     "output_type": "stream",
     "text": [
      "(2043, 5) \t 2.5666960352422916\n",
      "(492, 5) \t 2.5926016260162603\n",
      "(493, 5) \t 2.575212981744421\n",
      "\n",
      "(3028, 4) \t 2.5722919418758265\n"
     ]
    },
    {
     "data": {
      "text/html": [
       "<div>\n",
       "<style scoped>\n",
       "    .dataframe tbody tr th:only-of-type {\n",
       "        vertical-align: middle;\n",
       "    }\n",
       "\n",
       "    .dataframe tbody tr th {\n",
       "        vertical-align: top;\n",
       "    }\n",
       "\n",
       "    .dataframe thead th {\n",
       "        text-align: right;\n",
       "    }\n",
       "</style>\n",
       "<table border=\"1\" class=\"dataframe\">\n",
       "  <thead>\n",
       "    <tr style=\"text-align: right;\">\n",
       "      <th></th>\n",
       "      <th>id</th>\n",
       "      <th>sentence1</th>\n",
       "      <th>sentence2</th>\n",
       "      <th>avg</th>\n",
       "    </tr>\n",
       "  </thead>\n",
       "  <tbody>\n",
       "    <tr>\n",
       "      <th>0</th>\n",
       "      <td>ACN2_111</td>\n",
       "      <td>Atorga per primer cop les mencions Encarna San...</td>\n",
       "      <td>Creen la menció M. Encarna Sanahuja a la inclu...</td>\n",
       "      <td>3.50</td>\n",
       "    </tr>\n",
       "    <tr>\n",
       "      <th>1</th>\n",
       "      <td>Oscar2_211</td>\n",
       "      <td>Finalment, afegiu-hi els bolets que haureu sal...</td>\n",
       "      <td>Finalment, poseu-hi les minipastanagues tallad...</td>\n",
       "      <td>1.25</td>\n",
       "    </tr>\n",
       "    <tr>\n",
       "      <th>2</th>\n",
       "      <td>ACN2_574</td>\n",
       "      <td>El TC suspèn el pla d'acció exterior i de rela...</td>\n",
       "      <td>El Constitucional manté la suspensió del pla e...</td>\n",
       "      <td>3.67</td>\n",
       "    </tr>\n",
       "    <tr>\n",
       "      <th>3</th>\n",
       "      <td>Viqui2_341</td>\n",
       "      <td>Virgin Galactic va ser fundada el 2004 per l'e...</td>\n",
       "      <td>Virgin Atlantic és una de les aerolínies de Ri...</td>\n",
       "      <td>2.25</td>\n",
       "    </tr>\n",
       "    <tr>\n",
       "      <th>4</th>\n",
       "      <td>ACN2_1184</td>\n",
       "      <td>Identifiquen un nou biomarcador per realitzar ...</td>\n",
       "      <td>Nous tractaments contra el càncer de mama</td>\n",
       "      <td>2.00</td>\n",
       "    </tr>\n",
       "  </tbody>\n",
       "</table>\n",
       "</div>"
      ],
      "text/plain": [
       "           id                                          sentence1  \\\n",
       "0    ACN2_111  Atorga per primer cop les mencions Encarna San...   \n",
       "1  Oscar2_211  Finalment, afegiu-hi els bolets que haureu sal...   \n",
       "2    ACN2_574  El TC suspèn el pla d'acció exterior i de rela...   \n",
       "3  Viqui2_341  Virgin Galactic va ser fundada el 2004 per l'e...   \n",
       "4   ACN2_1184  Identifiquen un nou biomarcador per realitzar ...   \n",
       "\n",
       "                                           sentence2   avg  \n",
       "0  Creen la menció M. Encarna Sanahuja a la inclu...  3.50  \n",
       "1  Finalment, poseu-hi les minipastanagues tallad...  1.25  \n",
       "2  El Constitucional manté la suspensió del pla e...  3.67  \n",
       "3  Virgin Atlantic és una de les aerolínies de Ri...  2.25  \n",
       "4          Nous tractaments contra el càncer de mama  2.00  "
      ]
     },
     "execution_count": 2,
     "metadata": {},
     "output_type": "execute_result"
    }
   ],
   "source": [
    "# file_url = https://zenodo.org/record/4761434/files/STS-ca_v.1.0.2.zip\n",
    "zip_path = \"data/STS-ca_v.1.0.2.zip\"\n",
    "file_names = [\n",
    "    \"1.0.2/splits/sts_cat_train_v1.tsv\",\n",
    "    \"1.0.2/splits/sts_cat_test_v1.tsv\",\n",
    "    \"1.0.2/splits/sts_cat_dev_v1.tsv\",\n",
    "]\n",
    "\n",
    "merged_df = pd.DataFrame()\n",
    "\n",
    "with ZipFile(zip_path) as z:\n",
    "    for path in file_names:\n",
    "        with z.open(path) as f:\n",
    "            df_aux = pd.read_csv(f, sep=\"\\t\")\n",
    "            print(df_aux.shape, \"\\t\", df_aux[\"avg\"].mean())\n",
    "            merged_df = pd.concat([merged_df, df_aux], ignore_index=True)\n",
    "\n",
    "merged_df.drop(columns=[\"Unnamed: 0\"], inplace=True)\n",
    "print(\"\\n\" + str(merged_df.shape), \"\\t\", merged_df[\"avg\"].mean())\n",
    "\n",
    "merged_df.head()\n"
   ]
  },
  {
   "cell_type": "code",
   "execution_count": 3,
   "metadata": {},
   "outputs": [],
   "source": [
    "# merged_df.to_pickle(\"data/similar_sentences.pkl\")\n"
   ]
  },
  {
   "cell_type": "code",
   "execution_count": 4,
   "metadata": {},
   "outputs": [
    {
     "name": "stdout",
     "output_type": "stream",
     "text": [
      "Merged dataset\t (3028, 4) \t 2.5722919418758265\n",
      "Ground truth\t (3034, 4) \t 2.5720877308707135\n",
      "Full dataset\t (3079, 11) \t 2.5548067554400777\n"
     ]
    }
   ],
   "source": [
    "dataset_name = \"1.0.2/sts_dataset.tsv\"\n",
    "gt_name = \"1.0.2/sts_ground_truth.tsv\"\n",
    "\n",
    "dataset_df = pd.DataFrame()\n",
    "gt_df = pd.DataFrame()\n",
    "\n",
    "with ZipFile(zip_path) as z:\n",
    "    with z.open(dataset_name) as f:\n",
    "        dataset_df = pd.read_csv(f, sep=\"\\t\")\n",
    "        dataset_df.drop(columns=[\"Unnamed: 0\"], inplace=True)\n",
    "    with z.open(gt_name) as f:\n",
    "        gt_df = pd.read_csv(f, sep=\"\\t\")\n",
    "        gt_df.drop(columns=[\"Unnamed: 0\"], inplace=True)\n",
    "\n",
    "print(\"Merged dataset\\t\", merged_df.shape, \"\\t\", merged_df[\"avg\"].mean())\n",
    "print(\"Ground truth\\t\", gt_df.shape, \"\\t\", gt_df[\"ground_truth\"].mean())\n",
    "print(\"Full dataset\\t\", dataset_df.shape, \"\\t\", dataset_df[\"avg\"].mean())\n"
   ]
  },
  {
   "cell_type": "code",
   "execution_count": 5,
   "metadata": {},
   "outputs": [
    {
     "data": {
      "text/html": [
       "<div>\n",
       "<style scoped>\n",
       "    .dataframe tbody tr th:only-of-type {\n",
       "        vertical-align: middle;\n",
       "    }\n",
       "\n",
       "    .dataframe tbody tr th {\n",
       "        vertical-align: top;\n",
       "    }\n",
       "\n",
       "    .dataframe thead th {\n",
       "        text-align: right;\n",
       "    }\n",
       "</style>\n",
       "<table border=\"1\" class=\"dataframe\">\n",
       "  <thead>\n",
       "    <tr style=\"text-align: right;\">\n",
       "      <th></th>\n",
       "      <th>id</th>\n",
       "      <th>sentence 1</th>\n",
       "      <th>sentence 2</th>\n",
       "      <th>ground_truth</th>\n",
       "    </tr>\n",
       "  </thead>\n",
       "  <tbody>\n",
       "    <tr>\n",
       "      <th>0</th>\n",
       "      <td>ACN2_1</td>\n",
       "      <td>Jordi Cuixart i Carme Forcadell declararan en ...</td>\n",
       "      <td>Jordi Cuixart i Carme Forcadell declararan dim...</td>\n",
       "      <td>4.25</td>\n",
       "    </tr>\n",
       "    <tr>\n",
       "      <th>1</th>\n",
       "      <td>ACN2_10</td>\n",
       "      <td>El 82,4% de les persones oculten de forma parc...</td>\n",
       "      <td>El 82,4% oculten de forma parcial o total que ...</td>\n",
       "      <td>4.50</td>\n",
       "    </tr>\n",
       "    <tr>\n",
       "      <th>2</th>\n",
       "      <td>ACN2_100</td>\n",
       "      <td>Bonvehí respecta les declaracions de Junqueras...</td>\n",
       "      <td>Bonvehí respecta les declaracions de Junqueras...</td>\n",
       "      <td>4.25</td>\n",
       "    </tr>\n",
       "    <tr>\n",
       "      <th>3</th>\n",
       "      <td>ACN2_1000</td>\n",
       "      <td>En l'acumulat dels primers onze mesos del 2016...</td>\n",
       "      <td>En els primers sis mesos de l'any l'increment ...</td>\n",
       "      <td>1.33</td>\n",
       "    </tr>\n",
       "    <tr>\n",
       "      <th>4</th>\n",
       "      <td>ACN2_1001</td>\n",
       "      <td>Les matriculacions de les comarques lleidatane...</td>\n",
       "      <td>Les matriculacions de les comarques tarragonin...</td>\n",
       "      <td>2.75</td>\n",
       "    </tr>\n",
       "  </tbody>\n",
       "</table>\n",
       "</div>"
      ],
      "text/plain": [
       "          id                                         sentence 1  \\\n",
       "0     ACN2_1  Jordi Cuixart i Carme Forcadell declararan en ...   \n",
       "1    ACN2_10  El 82,4% de les persones oculten de forma parc...   \n",
       "2   ACN2_100  Bonvehí respecta les declaracions de Junqueras...   \n",
       "3  ACN2_1000  En l'acumulat dels primers onze mesos del 2016...   \n",
       "4  ACN2_1001  Les matriculacions de les comarques lleidatane...   \n",
       "\n",
       "                                          sentence 2  ground_truth  \n",
       "0  Jordi Cuixart i Carme Forcadell declararan dim...          4.25  \n",
       "1  El 82,4% oculten de forma parcial o total que ...          4.50  \n",
       "2  Bonvehí respecta les declaracions de Junqueras...          4.25  \n",
       "3  En els primers sis mesos de l'any l'increment ...          1.33  \n",
       "4  Les matriculacions de les comarques tarragonin...          2.75  "
      ]
     },
     "execution_count": 5,
     "metadata": {},
     "output_type": "execute_result"
    }
   ],
   "source": [
    "gt_df.head()\n"
   ]
  },
  {
   "cell_type": "code",
   "execution_count": 6,
   "metadata": {},
   "outputs": [
    {
     "data": {
      "text/html": [
       "<div>\n",
       "<style scoped>\n",
       "    .dataframe tbody tr th:only-of-type {\n",
       "        vertical-align: middle;\n",
       "    }\n",
       "\n",
       "    .dataframe tbody tr th {\n",
       "        vertical-align: top;\n",
       "    }\n",
       "\n",
       "    .dataframe thead th {\n",
       "        text-align: right;\n",
       "    }\n",
       "</style>\n",
       "<table border=\"1\" class=\"dataframe\">\n",
       "  <thead>\n",
       "    <tr style=\"text-align: right;\">\n",
       "      <th></th>\n",
       "      <th>id</th>\n",
       "      <th>sentence 1</th>\n",
       "      <th>sentence 2</th>\n",
       "      <th>m47_1</th>\n",
       "      <th>m47_2</th>\n",
       "      <th>trad_1</th>\n",
       "      <th>trad_2</th>\n",
       "      <th>avg</th>\n",
       "      <th>newavg</th>\n",
       "      <th>annotators_excluded</th>\n",
       "      <th>sentences_excluded</th>\n",
       "    </tr>\n",
       "  </thead>\n",
       "  <tbody>\n",
       "    <tr>\n",
       "      <th>0</th>\n",
       "      <td>ACN2_1</td>\n",
       "      <td>Jordi Cuixart i Carme Forcadell declararan en ...</td>\n",
       "      <td>Jordi Cuixart i Carme Forcadell declararan dim...</td>\n",
       "      <td>4</td>\n",
       "      <td>4</td>\n",
       "      <td>5</td>\n",
       "      <td>4</td>\n",
       "      <td>4.25</td>\n",
       "      <td>4.25</td>\n",
       "      <td>[]</td>\n",
       "      <td>no</td>\n",
       "    </tr>\n",
       "    <tr>\n",
       "      <th>1</th>\n",
       "      <td>ACN2_10</td>\n",
       "      <td>El 82,4% de les persones oculten de forma parc...</td>\n",
       "      <td>El 82,4% oculten de forma parcial o total que ...</td>\n",
       "      <td>4</td>\n",
       "      <td>4</td>\n",
       "      <td>5</td>\n",
       "      <td>5</td>\n",
       "      <td>4.50</td>\n",
       "      <td>4.50</td>\n",
       "      <td>[]</td>\n",
       "      <td>no</td>\n",
       "    </tr>\n",
       "    <tr>\n",
       "      <th>2</th>\n",
       "      <td>ACN2_100</td>\n",
       "      <td>Bonvehí respecta les declaracions de Junqueras...</td>\n",
       "      <td>Bonvehí respecta les declaracions de Junqueras...</td>\n",
       "      <td>5</td>\n",
       "      <td>4</td>\n",
       "      <td>4</td>\n",
       "      <td>4</td>\n",
       "      <td>4.25</td>\n",
       "      <td>4.25</td>\n",
       "      <td>[]</td>\n",
       "      <td>no</td>\n",
       "    </tr>\n",
       "  </tbody>\n",
       "</table>\n",
       "</div>"
      ],
      "text/plain": [
       "         id                                         sentence 1  \\\n",
       "0    ACN2_1  Jordi Cuixart i Carme Forcadell declararan en ...   \n",
       "1   ACN2_10  El 82,4% de les persones oculten de forma parc...   \n",
       "2  ACN2_100  Bonvehí respecta les declaracions de Junqueras...   \n",
       "\n",
       "                                          sentence 2  m47_1  m47_2  trad_1  \\\n",
       "0  Jordi Cuixart i Carme Forcadell declararan dim...      4      4       5   \n",
       "1  El 82,4% oculten de forma parcial o total que ...      4      4       5   \n",
       "2  Bonvehí respecta les declaracions de Junqueras...      5      4       4   \n",
       "\n",
       "   trad_2   avg  newavg annotators_excluded sentences_excluded  \n",
       "0       4  4.25    4.25                  []                 no  \n",
       "1       5  4.50    4.50                  []                 no  \n",
       "2       4  4.25    4.25                  []                 no  "
      ]
     },
     "execution_count": 6,
     "metadata": {},
     "output_type": "execute_result"
    }
   ],
   "source": [
    "dataset_df.head(3)\n"
   ]
  },
  {
   "cell_type": "code",
   "execution_count": 7,
   "metadata": {},
   "outputs": [
    {
     "name": "stdout",
     "output_type": "stream",
     "text": [
      "(3028, 4) (3028, 4)\n",
      "2.5722919418758265\n",
      "2.5722919418758265\n",
      "\n",
      "Number of conflicts: 6\n"
     ]
    },
    {
     "data": {
      "text/html": [
       "<div>\n",
       "<style scoped>\n",
       "    .dataframe tbody tr th:only-of-type {\n",
       "        vertical-align: middle;\n",
       "    }\n",
       "\n",
       "    .dataframe tbody tr th {\n",
       "        vertical-align: top;\n",
       "    }\n",
       "\n",
       "    .dataframe thead th {\n",
       "        text-align: right;\n",
       "    }\n",
       "</style>\n",
       "<table border=\"1\" class=\"dataframe\">\n",
       "  <thead>\n",
       "    <tr style=\"text-align: right;\">\n",
       "      <th></th>\n",
       "      <th>id</th>\n",
       "      <th>sentence 1</th>\n",
       "      <th>sentence 2</th>\n",
       "      <th>ground_truth</th>\n",
       "    </tr>\n",
       "  </thead>\n",
       "  <tbody>\n",
       "    <tr>\n",
       "      <th>919</th>\n",
       "      <td>ACN2_746</td>\n",
       "      <td>Les Corts Valencianes votaran aquest dijous un...</td>\n",
       "      <td>Les Corts Valencianes debatran aquest dijous u...</td>\n",
       "      <td>2.00</td>\n",
       "    </tr>\n",
       "    <tr>\n",
       "      <th>925</th>\n",
       "      <td>ACN2_751</td>\n",
       "      <td>L'aeroport del Prat supera els dos milions de ...</td>\n",
       "      <td>L'aeroport de Girona programa més de 75.000 se...</td>\n",
       "      <td>2.00</td>\n",
       "    </tr>\n",
       "    <tr>\n",
       "      <th>941</th>\n",
       "      <td>ACN2_766</td>\n",
       "      <td>Detingut per tràfic de drogues el president d’...</td>\n",
       "      <td>Detenen el president d'una associació cannàbic...</td>\n",
       "      <td>3.00</td>\n",
       "    </tr>\n",
       "    <tr>\n",
       "      <th>1179</th>\n",
       "      <td>ACN2_985</td>\n",
       "      <td>El 2016 les exportacions catalanes a la zona v...</td>\n",
       "      <td>Les exportacions catalanes creixen un 2,9% dur...</td>\n",
       "      <td>2.67</td>\n",
       "    </tr>\n",
       "    <tr>\n",
       "      <th>1707</th>\n",
       "      <td>Oscar2_576</td>\n",
       "      <td>Si no treus el cap, no ets ningú.</td>\n",
       "      <td>Si no hi ets, és com si no existissis.</td>\n",
       "      <td>NaN</td>\n",
       "    </tr>\n",
       "    <tr>\n",
       "      <th>1881</th>\n",
       "      <td>Oscar2_84</td>\n",
       "      <td>I ningú no vessarà cap llàgrima per res.</td>\n",
       "      <td>I no passa res, ningú no es queixa.</td>\n",
       "      <td>NaN</td>\n",
       "    </tr>\n",
       "  </tbody>\n",
       "</table>\n",
       "</div>"
      ],
      "text/plain": [
       "              id                                         sentence 1  \\\n",
       "919     ACN2_746  Les Corts Valencianes votaran aquest dijous un...   \n",
       "925     ACN2_751  L'aeroport del Prat supera els dos milions de ...   \n",
       "941     ACN2_766  Detingut per tràfic de drogues el president d’...   \n",
       "1179    ACN2_985  El 2016 les exportacions catalanes a la zona v...   \n",
       "1707  Oscar2_576                  Si no treus el cap, no ets ningú.   \n",
       "1881   Oscar2_84           I ningú no vessarà cap llàgrima per res.   \n",
       "\n",
       "                                             sentence 2  ground_truth  \n",
       "919   Les Corts Valencianes debatran aquest dijous u...          2.00  \n",
       "925   L'aeroport de Girona programa més de 75.000 se...          2.00  \n",
       "941   Detenen el president d'una associació cannàbic...          3.00  \n",
       "1179  Les exportacions catalanes creixen un 2,9% dur...          2.67  \n",
       "1707             Si no hi ets, és com si no existissis.           NaN  \n",
       "1881                I no passa res, ningú no es queixa.           NaN  "
      ]
     },
     "execution_count": 7,
     "metadata": {},
     "output_type": "execute_result"
    }
   ],
   "source": [
    "# Exploring the differences in the datasets\n",
    "# After removing the 6 conflicts, we can conclude they are the same\n",
    "conflicts = ~(gt_df[\"id\"].isin(merged_df[\"id\"]))\n",
    "\n",
    "print(merged_df.shape, gt_df[~conflicts].shape)\n",
    "\n",
    "print(merged_df[\"avg\"].mean())\n",
    "print(gt_df[~conflicts][\"ground_truth\"].mean())\n",
    "\n",
    "print(\"\\nNumber of conflicts:\", conflicts.sum())\n",
    "gt_df[conflicts]\n"
   ]
  },
  {
   "cell_type": "code",
   "execution_count": 8,
   "metadata": {},
   "outputs": [
    {
     "data": {
      "text/plain": [
       "True"
      ]
     },
     "execution_count": 8,
     "metadata": {},
     "output_type": "execute_result"
    }
   ],
   "source": [
    "# Proving both datasets have the same values, not only with the metrics\n",
    "\n",
    "merged_df = merged_df.sort_values(by=\"id\").reset_index(drop=True)\n",
    "\n",
    "# Renaming columns is needed, to be equal to merged_df\n",
    "df2 = (\n",
    "    gt_df[~conflicts]\n",
    "    .rename(\n",
    "        columns={\n",
    "            \"sentence 1\": \"sentence1\",\n",
    "            \"sentence 2\": \"sentence2\",\n",
    "            \"ground_truth\": \"avg\",\n",
    "        }\n",
    "    )\n",
    "    .reset_index(drop=True)\n",
    ")\n",
    "\n",
    "merged_df.eq(df2).all().all()\n"
   ]
  },
  {
   "cell_type": "code",
   "execution_count": 9,
   "metadata": {},
   "outputs": [
    {
     "name": "stdout",
     "output_type": "stream",
     "text": [
      "Les Corts Valencianes votaran aquest dijous una proposta de resolució per exigir l'acta de senadora a Rita Barberá\n",
      "Les Corts Valencianes debatran aquest dijous una resolució que insta Camps a abandonar el Consell Jurídic Consultiu\n",
      "\n",
      "L'aeroport del Prat supera els dos milions de seients programats per Setmana Santa\n",
      "L'aeroport de Girona programa més de 75.000 seients per Setmana Santa\n",
      "\n",
      "Detingut per tràfic de drogues el president d’una associació cannàbica a Sant Carles de la Ràpita, al Montsià\n",
      "Detenen el president d'una associació cannàbica de l'Hospitalet per tràfic de drogues i precinten el local\n",
      "\n",
      "El 2016 les exportacions catalanes a la zona van assolir els 1.600 MEUR\n",
      "Les exportacions catalanes creixen un 2,9% durant el primer semestre de 2018 i assoleixen els 36.658 MEUR\n",
      "\n",
      "Si no treus el cap, no ets ningú.\n",
      "Si no hi ets, és com si no existissis.\n",
      "\n",
      "I ningú no vessarà cap llàgrima per res.\n",
      "I no passa res, ningú no es queixa.\n",
      "\n"
     ]
    }
   ],
   "source": [
    "# Printing conflicts full sentences\n",
    "\n",
    "conflicts_dict = gt_df[conflicts].to_dict()\n",
    "for i in list(conflicts_dict[\"id\"].keys()):\n",
    "    print(conflicts_dict[\"sentence 1\"][i])\n",
    "    print(conflicts_dict[\"sentence 2\"][i])\n",
    "    print()\n"
   ]
  },
  {
   "cell_type": "code",
   "execution_count": 10,
   "metadata": {},
   "outputs": [
    {
     "name": "stdout",
     "output_type": "stream",
     "text": [
      "Oscar2_440 \t 4.5\n",
      "Si navegues per la nostra web, estaràs acceptant l'ús de les cookies.\n",
      "Si continues navegant per la pàgina, estaràs acceptant l'ús que fem de les cookies.\n",
      "\n",
      "Oscar2_284 \t 5.0\n",
      "L'hospital de Viladecans rep el 1r Premi a la Millor Experiència Innovadora a l'Institut Català de la Salut\n",
      "Hospital de Viladecans - 1r Premi a la Millor Experiència Innovadora a l'Institut Català de la Salut\n",
      "\n",
      "Oscar2_19 \t 4.75\n",
      "Una prova on és imprescindible un perfecte entrenament físic i mental.\n",
      "En aquesta prova és imprescindible un perfecte entrenament físic i mental.\n",
      "\n",
      "Oscar2_434 \t 4.67\n",
      "Per a recordar la seva contrasenya, siusplau introdueixi el seu email per tal de rebre un correu electrònic amb les instruccions a seguir.\n",
      "Introdueix el teu correu electrònic i t'enviarem les instruccions per recuperar la teva contrasenya.\n",
      "\n",
      "Viqui2_764 \t 4.67\n",
      "Visqué a Nord-amèrica i Àsia entre l'Oligocè i el Miocè.\n",
      "Visqué a Nord-amèrica i Àsia durant l'Oligocè i el Miocè.\n",
      "\n"
     ]
    }
   ],
   "source": [
    "# Print some samples, using a mask\n",
    "\n",
    "mask = merged_df[\"avg\"] > 4\n",
    "sample_dict = merged_df[mask].sample(5).to_dict()\n",
    "\n",
    "for i in list(sample_dict[\"id\"].keys()):\n",
    "    print(sample_dict[\"id\"][i], \"\\t\", sample_dict[\"avg\"][i])\n",
    "    print(sample_dict[\"sentence1\"][i])\n",
    "    print(sample_dict[\"sentence2\"][i])\n",
    "    print()\n"
   ]
  },
  {
   "cell_type": "code",
   "execution_count": null,
   "metadata": {},
   "outputs": [],
   "source": []
  }
 ],
 "metadata": {
  "interpreter": {
   "hash": "0973ce1be728d4dc323b4ea761d4cc50400ec6babd1f33dbf3435fda5c4f6b44"
  },
  "kernelspec": {
   "display_name": "Python 3.8.5 ('base')",
   "language": "python",
   "name": "python3"
  },
  "language_info": {
   "codemirror_mode": {
    "name": "ipython",
    "version": 3
   },
   "file_extension": ".py",
   "mimetype": "text/x-python",
   "name": "python",
   "nbconvert_exporter": "python",
   "pygments_lexer": "ipython3",
   "version": "3.8.5"
  },
  "orig_nbformat": 4
 },
 "nbformat": 4,
 "nbformat_minor": 2
}
