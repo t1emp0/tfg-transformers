{
 "cells": [
  {
   "cell_type": "markdown",
   "metadata": {},
   "source": [
    "# GEC Processing using SentenceTransformer\n"
   ]
  },
  {
   "cell_type": "code",
   "execution_count": 10,
   "metadata": {},
   "outputs": [],
   "source": [
    "import numpy as np\n",
    "import pandas as pd\n",
    "import sys\n",
    "\n",
    "from tqdm.notebook import tqdm\n",
    "from sklearn.metrics.pairwise import cosine_similarity\n",
    "\n",
    "from sentence_transformers import SentenceTransformer\n"
   ]
  },
  {
   "cell_type": "code",
   "execution_count": 2,
   "metadata": {},
   "outputs": [
    {
     "name": "stdout",
     "output_type": "stream",
     "text": [
      "(6514, 2)\n"
     ]
    },
    {
     "data": {
      "text/html": [
       "<div>\n",
       "<style scoped>\n",
       "    .dataframe tbody tr th:only-of-type {\n",
       "        vertical-align: middle;\n",
       "    }\n",
       "\n",
       "    .dataframe tbody tr th {\n",
       "        vertical-align: top;\n",
       "    }\n",
       "\n",
       "    .dataframe thead th {\n",
       "        text-align: right;\n",
       "    }\n",
       "</style>\n",
       "<table border=\"1\" class=\"dataframe\">\n",
       "  <thead>\n",
       "    <tr style=\"text-align: right;\">\n",
       "      <th></th>\n",
       "      <th>title</th>\n",
       "      <th>text</th>\n",
       "    </tr>\n",
       "  </thead>\n",
       "  <tbody>\n",
       "    <tr>\n",
       "      <th>0</th>\n",
       "      <td>Club Handbol Martorell</td>\n",
       "      <td>Fundat l’any 1951, disposa d’equip sènior masc...</td>\n",
       "    </tr>\n",
       "    <tr>\n",
       "      <th>1</th>\n",
       "      <td>Societat Bibliogràfica Valenciana</td>\n",
       "      <td>N’és president Adolf Pizcueta, i en foren fund...</td>\n",
       "    </tr>\n",
       "    <tr>\n",
       "      <th>2</th>\n",
       "      <td>Nikolaj Nikolajevič Bogol’ubov</td>\n",
       "      <td>Treballà al departament de física matemàtica d...</td>\n",
       "    </tr>\n",
       "    <tr>\n",
       "      <th>3</th>\n",
       "      <td>Glinskij</td>\n",
       "      <td>Els germans Mikhail (? — 1534), Ivan i Vasilij...</td>\n",
       "    </tr>\n",
       "    <tr>\n",
       "      <th>4</th>\n",
       "      <td>Hermann Lietz</td>\n",
       "      <td>El 1898 fundà, amb C.Reddie, la primera escola...</td>\n",
       "    </tr>\n",
       "  </tbody>\n",
       "</table>\n",
       "</div>"
      ],
      "text/plain": [
       "                               title  \\\n",
       "0             Club Handbol Martorell   \n",
       "1  Societat Bibliogràfica Valenciana   \n",
       "2     Nikolaj Nikolajevič Bogol’ubov   \n",
       "3                           Glinskij   \n",
       "4                      Hermann Lietz   \n",
       "\n",
       "                                                text  \n",
       "0  Fundat l’any 1951, disposa d’equip sènior masc...  \n",
       "1  N’és president Adolf Pizcueta, i en foren fund...  \n",
       "2  Treballà al departament de física matemàtica d...  \n",
       "3  Els germans Mikhail (? — 1534), Ivan i Vasilij...  \n",
       "4  El 1898 fundà, amb C.Reddie, la primera escola...  "
      ]
     },
     "execution_count": 2,
     "metadata": {},
     "output_type": "execute_result"
    }
   ],
   "source": [
    "df = pd.read_pickle(\"samples/articles.pkl\")\n",
    "print(df.shape)\n",
    "df.head()\n"
   ]
  },
  {
   "cell_type": "code",
   "execution_count": 24,
   "metadata": {},
   "outputs": [],
   "source": [
    "SAMPLE_SIZE = 200\n",
    "\n",
    "df = df.sample(n=SAMPLE_SIZE, random_state=42).reset_index(drop=True)\n"
   ]
  },
  {
   "cell_type": "code",
   "execution_count": null,
   "metadata": {},
   "outputs": [],
   "source": [
    "model_name = \"PlanTL-GOB-ES/roberta-base-ca\"\n",
    "model = SentenceTransformer(model_name)\n"
   ]
  },
  {
   "cell_type": "code",
   "execution_count": 49,
   "metadata": {},
   "outputs": [
    {
     "name": "stdout",
     "output_type": "stream",
     "text": [
      "19.08 MB\n"
     ]
    }
   ],
   "source": [
    "# 6500 texts -> 10 min -> 121 MB\n",
    "\n",
    "sentence_vecs = model.encode(df[\"text\"])\n",
    "print(f\"{sys.getsizeof(sentence_vecs)/float(1<<20):,.2f} MB\")\n"
   ]
  },
  {
   "cell_type": "code",
   "execution_count": 60,
   "metadata": {},
   "outputs": [
    {
     "data": {
      "text/plain": [
       "(6514, 768)"
      ]
     },
     "execution_count": 60,
     "metadata": {},
     "output_type": "execute_result"
    }
   ],
   "source": [
    "sentence_vecs.shape\n"
   ]
  },
  {
   "cell_type": "markdown",
   "metadata": {},
   "source": [
    "Exporting the raw data, to be visualized with tensorboard embedding projector https://projector.tensorflow.org/\n"
   ]
  },
  {
   "cell_type": "code",
   "execution_count": 1,
   "metadata": {},
   "outputs": [],
   "source": [
    "# np.savetxt(\"samples/1_2_article_vects_200.tsv\", sentence_vecs, delimiter=\"\\t\")\n",
    "# np.savetxt(\"samples/2_2_article_vects_6k.tsv\", sentence_vecs, delimiter=\"\\t\")"
   ]
  },
  {
   "cell_type": "code",
   "execution_count": 27,
   "metadata": {},
   "outputs": [],
   "source": [
    "df[\"preview\"] = df[\"text\"].str.split(\" \").str[:30:].str.join(\" \")\n",
    "df[[\"title\", \"preview\"]].to_csv(\n",
    "    \"samples/1_1_article_titles_200.tsv\", index=False, sep=\"\\t\"\n",
    ")\n",
    "# df[[\"title\", \"preview\"]].to_csv(\"samples/2_1_article_titles_6k.tsv\", index=False, sep=\"\\t\")\n"
   ]
  },
  {
   "cell_type": "markdown",
   "metadata": {},
   "source": [
    "Processing and exporting data to be visualized with the custom made streamlit app\n"
   ]
  },
  {
   "cell_type": "code",
   "execution_count": 55,
   "metadata": {},
   "outputs": [
    {
     "data": {
      "text/plain": [
       "(6514, 768)"
      ]
     },
     "execution_count": 55,
     "metadata": {},
     "output_type": "execute_result"
    }
   ],
   "source": [
    "sentence_vecs = np.loadtxt(\"samples/2_2_article_vects_6k.tsv\", delimiter=\"\\t\")\n",
    "sentence_vecs.shape\n"
   ]
  },
  {
   "cell_type": "code",
   "execution_count": 56,
   "metadata": {},
   "outputs": [
    {
     "data": {
      "application/vnd.jupyter.widget-view+json": {
       "model_id": "7dee467b0f7b4453ab8fa4a142c6c56e",
       "version_major": 2,
       "version_minor": 0
      },
      "text/plain": [
       "  0%|          | 0/6514 [00:00<?, ?it/s]"
      ]
     },
     "metadata": {},
     "output_type": "display_data"
    }
   ],
   "source": [
    "pairs = []\n",
    "\n",
    "for i in tqdm(range(len(sentence_vecs))):\n",
    "    other_sentences = np.delete(sentence_vecs.copy(), i, 0)\n",
    "    cos_scores = cosine_similarity([sentence_vecs[i]], other_sentences).flatten()\n",
    "    # most_similar_index = cos_scores.argmax()\n",
    "    # most_similar_index += 1 if (most_similar_index >= i) else 0\n",
    "\n",
    "    # Get, sort and adjust the top 5 cosines scores\n",
    "    top5 = np.argpartition(cos_scores, -5)[-5:]\n",
    "    top5_sorted = top5[np.argsort(cos_scores[top5])[::-1]]\n",
    "    top5_adj = [ind + 1 if ind >= i else ind for ind in top5_sorted]\n",
    "\n",
    "    pairs.append((i, top5_adj, list(cos_scores[top5_sorted])))\n"
   ]
  },
  {
   "cell_type": "code",
   "execution_count": 17,
   "metadata": {},
   "outputs": [],
   "source": [
    "import pickle\n"
   ]
  },
  {
   "cell_type": "code",
   "execution_count": 57,
   "metadata": {},
   "outputs": [],
   "source": [
    "# with open(\"samples/1_3_article_pairs_200.pkl\", \"wb\") as file:\n",
    "#   pickle.dump(pairs, file)\n",
    "\n",
    "# with open(\"samples/2_3_article_pairs_6k.pkl\", \"wb\") as file:\n",
    "#   pickle.dump(pairs, file)\n"
   ]
  },
  {
   "cell_type": "code",
   "execution_count": null,
   "metadata": {},
   "outputs": [],
   "source": []
  }
 ],
 "metadata": {
  "interpreter": {
   "hash": "0973ce1be728d4dc323b4ea761d4cc50400ec6babd1f33dbf3435fda5c4f6b44"
  },
  "kernelspec": {
   "display_name": "Python 3 (ipykernel)",
   "language": "python",
   "name": "python3"
  },
  "language_info": {
   "codemirror_mode": {
    "name": "ipython",
    "version": 3
   },
   "file_extension": ".py",
   "mimetype": "text/x-python",
   "name": "python",
   "nbconvert_exporter": "python",
   "pygments_lexer": "ipython3",
   "version": "3.8.5"
  }
 },
 "nbformat": 4,
 "nbformat_minor": 2
}
